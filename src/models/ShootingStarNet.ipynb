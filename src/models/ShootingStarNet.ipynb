{
  "nbformat": 4,
  "nbformat_minor": 0,
  "metadata": {
    "colab": {
      "name": "ShootingStarNet.ipynb",
      "provenance": []
    },
    "kernelspec": {
      "name": "python3",
      "display_name": "Python 3"
    },
    "accelerator": "GPU"
  },
  "cells": [
    {
      "cell_type": "code",
      "metadata": {
        "id": "uwXEoikkXTyp",
        "colab_type": "code",
        "colab": {}
      },
      "source": [
        "import numpy as np\n",
        "import torch \n",
        "import torch.nn as nn\n",
        "import torch.nn.functional as F\n",
        "import torch.optim as optim\n",
        "!unzip images.zip"
      ],
      "execution_count": 0,
      "outputs": []
    },
    {
      "cell_type": "code",
      "metadata": {
        "id": "UFQtgQUqXjFN",
        "colab_type": "code",
        "colab": {}
      },
      "source": [
        "class ShootingStarNet(nn.Module):\n",
        "  def __init__(self, p=0.5):\n",
        "    super(ShootingStarNet, self).__init__()\n",
        "    self.conv1 = nn.Conv2d(1, 32, 3, padding=1) # 128 -> 64\n",
        "    self.conv2 = nn.Conv2d(32, 64, 3, padding=1) # 64 -> 32\n",
        "    self.conv3 = nn.Conv2d(64, 128, 3, padding=1) # 32 -> 16\n",
        "    self.conv4 = nn.Conv2d(128, 256, 3, padding=1) # 16 -> 8\n",
        "    self.conv5 = nn.Conv2d(256, 512, 3, padding=1) # 8 -> 4\n",
        "    self.fc1 = nn.Linear(4 * 4 * 512, 4096)\n",
        "    self.fc2 = nn.Linear(4096, 2048)\n",
        "    self.fc3 = nn.Linear(2048, 1024)\n",
        "    self.fc4 = nn.Linear(1024, 256)\n",
        "    self.fc5 = nn.Linear(256 + 4, 128)\n",
        "    self.fc6 = nn.Linear(128, 64)\n",
        "    self.fc7 = nn.Linear(64, 8)\n",
        "    self.drop1 = nn.Dropout(p)\n",
        "\n",
        "  def forward(self, x):\n",
        "    config_states, maps = x\n",
        "    maps = maps.unsqueeze(1).float().to(\"cuda\")\n",
        "    config_states = config_states.float().to(\"cuda\")\n",
        "    x = F.max_pool2d(F.relu(self.conv1(maps)), 2)\n",
        "    x = F.max_pool2d(F.relu(self.conv2(x)), 2)\n",
        "    x = F.max_pool2d(F.relu(self.conv3(x)), 2)\n",
        "    x = F.max_pool2d(F.relu(self.conv4(x)), 2)\n",
        "    x = F.max_pool2d(F.relu(self.conv5(x)), 2)\n",
        "    x = x.view(-1, self.num_flat_features(x))\n",
        "    x = F.relu(self.fc1(x))\n",
        "    x = F.relu(self.fc2(x))\n",
        "    x = F.relu(self.fc3(x))\n",
        "    x = self.drop1(x)\n",
        "    x = F.relu(self.fc4(x))\n",
        "    x = self.drop1(x)\n",
        "    x = torch.cat((x, config_states), axis=1)\n",
        "    x = F.relu(self.fc5(x))\n",
        "    x = F.relu(self.fc6(x))\n",
        "    x = self.fc7(x)\n",
        "    return x\n",
        "  \n",
        "  def num_flat_features(self, x):\n",
        "    size = x.size()[1:]  # all dimensions except the batch dimension\n",
        "    num_features = 1\n",
        "    for s in size:\n",
        "        num_features *= s\n",
        "    return num_features"
      ],
      "execution_count": 0,
      "outputs": []
    },
    {
      "cell_type": "code",
      "metadata": {
        "id": "Jb-OpCOaZaW6",
        "colab_type": "code",
        "colab": {}
      },
      "source": [
        "from dataloader import HolonomicDataset\n",
        "from torch.utils.data import DataLoader\n",
        "path = './'\n",
        "dataset = HolonomicDataset('data.csv', path, grayscale=True)\n",
        "dataloader = DataLoader(dataset, batch_size=128, shuffle=True)"
      ],
      "execution_count": 0,
      "outputs": []
    },
    {
      "cell_type": "code",
      "metadata": {
        "id": "j2DA6geYZmHh",
        "colab_type": "code",
        "colab": {}
      },
      "source": [
        "net = ShootingStarNet().to(\"cuda\")\n",
        "optimizer = optim.Adam(net.parameters(), lr=0.001)\n",
        "criterion = nn.CrossEntropyLoss()\n",
        "JHist = []"
      ],
      "execution_count": 0,
      "outputs": []
    },
    {
      "cell_type": "code",
      "metadata": {
        "id": "9zdEbpHgZoEk",
        "colab_type": "code",
        "colab": {}
      },
      "source": [
        "for j in range(100):\n",
        "  for i, (input_data, labels) in enumerate(dataloader):\n",
        "\n",
        "    y_label = labels.to(\"cuda\")\n",
        "    y_label = y_label - 1\n",
        "    optimizer.zero_grad()\n",
        "    y_pred = net(input_data)\n",
        "    loss = criterion(y_pred, y_label)\n",
        "    loss.backward()\n",
        "    optimizer.step()\n",
        "\n",
        "    epoch_loss = loss.item()\n",
        "    JHist.append(epoch_loss)\n",
        "    \n",
        "    print(i + j * 123, epoch_loss)"
      ],
      "execution_count": 0,
      "outputs": []
    },
    {
      "cell_type": "code",
      "metadata": {
        "id": "LffKxtk1ahVT",
        "colab_type": "code",
        "outputId": "35cd1439-4322-4437-c472-f8324cd54a20",
        "colab": {
          "base_uri": "https://localhost:8080/",
          "height": 283
        }
      },
      "source": [
        "import matplotlib.pyplot as plt\n",
        "JHist_avg = []\n",
        "sum = 0\n",
        "for index in range(30, len(JHist)):\n",
        "  sum += JHist[index]\n",
        "  if index % 99 == 0:\n",
        "    JHist_avg.append(sum / 100)\n",
        "    sum = 0\n",
        "\n",
        "plt.plot(JHist_avg)"
      ],
      "execution_count": 14,
      "outputs": [
        {
          "output_type": "execute_result",
          "data": {
            "text/plain": [
              "[<matplotlib.lines.Line2D at 0x7f5e5b5a3eb8>]"
            ]
          },
          "metadata": {
            "tags": []
          },
          "execution_count": 14
        },
        {
          "output_type": "display_data",
          "data": {
            "image/png": "[encoded data removed]",
            "text/plain": [
              "<Figure size 432x288 with 1 Axes>"
            ]
          },
          "metadata": {
            "tags": [],
            "needs_background": "light"
          }
        }
      ]
    },
    {
      "cell_type": "code",
      "metadata": {
        "id": "IooeCPCCrMKf",
        "colab_type": "code",
        "outputId": "92bb6135-7e66-4aa2-f27b-8d2864d611ca",
        "colab": {
          "base_uri": "https://localhost:8080/",
          "height": 35
        }
      },
      "source": [
        "# check labels on all of training data\n",
        "correct = 0\n",
        "total = 0\n",
        "for i, (input_data, labels) in enumerate(dataloader):\n",
        "  test_input = input_data\n",
        "  test_label = labels.to(\"cuda\")\n",
        "\n",
        "  y_pred = net(test_input)\n",
        "  pred_actions = torch.argmax(y_pred, axis=1)\n",
        "  \n",
        "  total += pred_actions.shape[0]\n",
        "  for j in range(pred_actions.shape[0]):\n",
        "    if pred_actions[j] == test_label[j] - 1:\n",
        "      correct += 1\n",
        "print(correct / total)"
      ],
      "execution_count": 15,
      "outputs": [
        {
          "output_type": "stream",
          "text": [
            "0.7909206349206349\n"
          ],
          "name": "stdout"
        }
      ]
    },
    {
      "cell_type": "code",
      "metadata": {
        "id": "74F_Th4crOIc",
        "colab_type": "code",
        "colab": {}
      },
      "source": [
        "from google.colab import files\n",
        "PATH = './ShootingStarNet.pth'\n",
        "torch.save(net.state_dict(), PATH)\n",
        "files.download(PATH)"
      ],
      "execution_count": 0,
      "outputs": []
    },
    {
      "cell_type": "code",
      "metadata": {
        "id": "W3xZ0Hqr_cA4",
        "colab_type": "code",
        "colab": {}
      },
      "source": [
        ""
      ],
      "execution_count": 0,
      "outputs": []
    }
  ]
}